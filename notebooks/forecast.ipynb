{
 "cells": [
  {
   "cell_type": "code",
   "execution_count": null,
   "metadata": {},
   "outputs": [
    {
     "name": "stdout",
     "output_type": "stream",
     "text": [
      "The autoreload extension is already loaded. To reload it, use:\n",
      "  %reload_ext autoreload\n"
     ]
    }
   ],
   "source": [
    "import torch\n",
    "import matplotlib.pyplot as plt\n",
    "from transformers import StoppingCriteria, StoppingCriteriaList\n",
    "\n",
    "from m2_utilities.load_data import load_trajectories\n",
    "from m2_utilities.preprocessor import Preprocessor\n",
    "from m2_utilities.data.postprocessor import batch_truncate_sequence\n",
    "from m2_utilities.qwen import load_qwen\n",
    "from m2_utilities.metrics import forecast_points, compute_mae\n",
    "\n",
    "%load_ext autoreload\n",
    "%autoreload 2"
   ]
  },
  {
   "cell_type": "code",
   "execution_count": 37,
   "metadata": {},
   "outputs": [],
   "source": [
    "model, tokenizer = load_qwen()"
   ]
  },
  {
   "cell_type": "code",
   "execution_count": null,
   "metadata": {},
   "outputs": [
    {
     "name": "stdout",
     "output_type": "stream",
     "text": [
      "torch.Size([2, 999])\n"
     ]
    }
   ],
   "source": [
    "trajectories = load_trajectories(\"data/lotka_volterra_data.h5\")[:, :, :]\n",
    "input_points = trajectories[:, :20, :]\n",
    "preprocessor = Preprocessor(decimals=2)\n",
    "input_ids = preprocessor.encode(trajectories)\n",
    "\n",
    "print(input_ids.shape)"
   ]
  },
  {
   "cell_type": "code",
   "execution_count": 49,
   "metadata": {},
   "outputs": [],
   "source": [
    "forecast = forecast_points(model, trajectories, 1, 2)"
   ]
  },
  {
   "cell_type": "code",
   "execution_count": 50,
   "metadata": {},
   "outputs": [
    {
     "name": "stdout",
     "output_type": "stream",
     "text": [
      "tensor([[[0.6800, 0.5600]],\n",
      "\n",
      "        [[1.2600, 0.6900]]])\n"
     ]
    }
   ],
   "source": [
    "print(forecast)"
   ]
  }
 ],
 "metadata": {
  "kernelspec": {
   "display_name": "env_site",
   "language": "python",
   "name": "python3"
  },
  "language_info": {
   "codemirror_mode": {
    "name": "ipython",
    "version": 3
   },
   "file_extension": ".py",
   "mimetype": "text/x-python",
   "name": "python",
   "nbconvert_exporter": "python",
   "pygments_lexer": "ipython3",
   "version": "3.11.9"
  }
 },
 "nbformat": 4,
 "nbformat_minor": 2
}
