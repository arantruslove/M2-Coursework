{
 "cells": [
  {
   "cell_type": "code",
   "execution_count": 1,
   "metadata": {},
   "outputs": [],
   "source": [
    "import torch\n",
    "import matplotlib.pyplot as plt\n",
    "from transformers import StoppingCriteria, StoppingCriteriaList\n",
    "\n",
    "from m2_utilities.load_data import load_trajectories\n",
    "from m2_utilities.preprocessor import Preprocessor, batch_trim_sequence\n",
    "from m2_utilities.qwen import load_qwen\n",
    "from m2_utilities.metrics import forecast_points, compute_mae\n",
    "\n",
    "%load_ext autoreload\n",
    "%autoreload 2"
   ]
  },
  {
   "cell_type": "code",
   "execution_count": 2,
   "metadata": {},
   "outputs": [
    {
     "name": "stderr",
     "output_type": "stream",
     "text": [
      "Sliding Window Attention is enabled but not implemented for `sdpa`; unexpected results may be encountered.\n"
     ]
    }
   ],
   "source": [
    "model, tokenizer = load_qwen()"
   ]
  },
  {
   "cell_type": "code",
   "execution_count": 3,
   "metadata": {},
   "outputs": [
    {
     "name": "stdout",
     "output_type": "stream",
     "text": [
      "torch.Size([1000, 199])\n"
     ]
    }
   ],
   "source": [
    "trajectories = load_trajectories(\"data/lotka_volterra_data.h5\")[:, :20, :]\n",
    "preprocessor = Preprocessor(decimals=2)\n",
    "input_ids = preprocessor.encode(trajectories)\n",
    "\n",
    "print(input_ids.shape)"
   ]
  },
  {
   "cell_type": "code",
   "execution_count": 4,
   "metadata": {},
   "outputs": [],
   "source": [
    "class MaxSemicolonCriteria(StoppingCriteria):\n",
    "    def __init__(self, n_points, input_ids):\n",
    "        self.max_semicolons = n_points + 1\n",
    "        self.n_semicolons = torch.zeros(len(input_ids), dtype=torch.int)\n",
    "\n",
    "    def __call__(self, input_ids, scores, **kwargs):\n",
    "        SEMICOLON_ID = 26\n",
    "        # Count semicolons\n",
    "        for i in range(len(input_ids)):\n",
    "            last_id = input_ids[i][-1].item()\n",
    "            if last_id == SEMICOLON_ID:\n",
    "                self.n_semicolons[i] += 1\n",
    "\n",
    "        return torch.all(self.n_semicolons >= self.max_semicolons)"
   ]
  },
  {
   "cell_type": "code",
   "execution_count": 5,
   "metadata": {},
   "outputs": [],
   "source": [
    "stopping_criteria = StoppingCriteriaList([MaxSemicolonCriteria(n_points=10, input_ids=input_ids[:1])])"
   ]
  },
  {
   "cell_type": "code",
   "execution_count": 6,
   "metadata": {},
   "outputs": [
    {
     "name": "stderr",
     "output_type": "stream",
     "text": [
      "c:\\Users\\atrus\\Documents\\Coding\\Term 2\\M2-Coursework\\env_site\\Lib\\site-packages\\transformers\\generation\\configuration_utils.py:629: UserWarning: `do_sample` is set to `False`. However, `temperature` is set to `0.7` -- this flag is only used in sample-based generation modes. You should set `do_sample=True` or unset `temperature`.\n",
      "  warnings.warn(\n",
      "c:\\Users\\atrus\\Documents\\Coding\\Term 2\\M2-Coursework\\env_site\\Lib\\site-packages\\transformers\\generation\\configuration_utils.py:634: UserWarning: `do_sample` is set to `False`. However, `top_p` is set to `0.8` -- this flag is only used in sample-based generation modes. You should set `do_sample=True` or unset `top_p`.\n",
      "  warnings.warn(\n",
      "c:\\Users\\atrus\\Documents\\Coding\\Term 2\\M2-Coursework\\env_site\\Lib\\site-packages\\transformers\\generation\\configuration_utils.py:651: UserWarning: `do_sample` is set to `False`. However, `top_k` is set to `20` -- this flag is only used in sample-based generation modes. You should set `do_sample=True` or unset `top_k`.\n",
      "  warnings.warn(\n",
      "The attention mask is not set and cannot be inferred from input because pad token is same as eos token. As a consequence, you may observe unexpected behavior. Please pass your input's `attention_mask` to obtain reliable results.\n"
     ]
    }
   ],
   "source": [
    "output_ids = model.generate(input_ids[:1], max_length=100000, stopping_criteria=stopping_criteria, do_sample=False)"
   ]
  },
  {
   "cell_type": "code",
   "execution_count": 17,
   "metadata": {},
   "outputs": [],
   "source": [
    "output_trimmed = batch_trim_sequence(output_ids, 25)\n",
    "\n",
    "all_trajectories = preprocessor.decode(output_trimmed)\n"
   ]
  },
  {
   "cell_type": "code",
   "execution_count": 18,
   "metadata": {},
   "outputs": [
    {
     "name": "stdout",
     "output_type": "stream",
     "text": [
      "torch.Size([1, 25, 2])\n"
     ]
    }
   ],
   "source": [
    "print(all_trajectories.shape)"
   ]
  }
 ],
 "metadata": {
  "kernelspec": {
   "display_name": "env_site",
   "language": "python",
   "name": "python3"
  },
  "language_info": {
   "codemirror_mode": {
    "name": "ipython",
    "version": 3
   },
   "file_extension": ".py",
   "mimetype": "text/x-python",
   "name": "python",
   "nbconvert_exporter": "python",
   "pygments_lexer": "ipython3",
   "version": "3.11.9"
  }
 },
 "nbformat": 4,
 "nbformat_minor": 2
}
