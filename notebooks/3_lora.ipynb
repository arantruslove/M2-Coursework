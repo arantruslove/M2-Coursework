{
 "cells": [
  {
   "cell_type": "code",
   "execution_count": 1,
   "id": "17211679-acc1-4229-9eab-b16f9d09e1fa",
   "metadata": {},
   "outputs": [],
   "source": [
    "from torch.utils.data import DataLoader, TensorDataset\n",
    "import wandb\n",
    "\n",
    "from m2_utilities.load_data import load_trajectories\n",
    "from m2_utilities.preprocessor import scale, Preprocessor\n",
    "from m2_utilities.qwen import load_qwen, train\n",
    "from m2_utilities.lora import apply_lora\n",
    "from m2_utilities.flops import compute_flops\n",
    "\n",
    "%load_ext autoreload\n",
    "%autoreload 2"
   ]
  },
  {
   "cell_type": "code",
   "execution_count": 2,
   "id": "0f2d7eac-8278-47ac-b6ec-b7335ea0952e",
   "metadata": {},
   "outputs": [
    {
     "name": "stderr",
     "output_type": "stream",
     "text": [
      "Sliding Window Attention is enabled but not implemented for `sdpa`; unexpected results may be encountered.\n"
     ]
    }
   ],
   "source": [
    "model, tokenizer = load_qwen()"
   ]
  },
  {
   "cell_type": "code",
   "execution_count": 3,
   "id": "4674a1a0-39c1-4c70-9300-6d48ac1a57be",
   "metadata": {},
   "outputs": [],
   "source": [
    "LORA_RANK = 4\n",
    "apply_lora(model, LORA_RANK)"
   ]
  },
  {
   "cell_type": "markdown",
   "id": "70d5dd83-ada8-4d03-8431-1527c3cfa9a3",
   "metadata": {},
   "source": [
    "### Preprocessing Trajectories to Tokens"
   ]
  },
  {
   "cell_type": "code",
   "execution_count": 4,
   "id": "f2b77855-009c-4c5a-9fbf-f54ae6c31ee5",
   "metadata": {},
   "outputs": [],
   "source": [
    "# Load\n",
    "trajectories = load_trajectories(\"data/lotka_volterra_data.h5\")\n",
    "\n",
    "# Split and scale\n",
    "train_trajectories = scale(trajectories[:700])\n",
    "val_trajectories = scale(trajectories[700:850])\n",
    "\n",
    "# Encode\n",
    "DECIMALS = 3\n",
    "preprocessor = Preprocessor(DECIMALS)\n",
    "train_ids = preprocessor.encode(train_trajectories, chunk=True)\n",
    "val_ids = preprocessor.encode(val_trajectories)"
   ]
  },
  {
   "cell_type": "code",
   "execution_count": 5,
   "id": "9b3d4080-48e7-4523-b2ae-0293bc49f576",
   "metadata": {},
   "outputs": [],
   "source": [
    "# Initialising data loaders\n",
    "BATCH_SIZE = 4\n",
    "train_dataset = TensorDataset(train_ids)\n",
    "train_loader = DataLoader(train_dataset, batch_size=BATCH_SIZE, shuffle=True)\n",
    "\n",
    "val_dataset = TensorDataset(val_ids)\n",
    "val_loader = DataLoader(val_dataset, batch_size=BATCH_SIZE)"
   ]
  },
  {
   "cell_type": "markdown",
   "id": "c92d01a3-8268-46a8-8281-79f523b38a6d",
   "metadata": {},
   "source": [
    "### Training"
   ]
  },
  {
   "cell_type": "code",
   "execution_count": 6,
   "id": "ee495136",
   "metadata": {},
   "outputs": [
    {
     "name": "stderr",
     "output_type": "stream",
     "text": [
      "Failed to detect the name of this notebook, you can set it manually with the WANDB_NOTEBOOK_NAME environment variable to enable code saving.\n",
      "\u001b[34m\u001b[1mwandb\u001b[0m: Using wandb-core as the SDK backend.  Please refer to https://wandb.me/wandb-core for more information.\n",
      "\u001b[34m\u001b[1mwandb\u001b[0m: Currently logged in as: \u001b[33mat2128\u001b[0m (\u001b[33mat2128-university-of-cambridge\u001b[0m) to \u001b[32mhttps://api.wandb.ai\u001b[0m. Use \u001b[1m`wandb login --relogin`\u001b[0m to force relogin\n"
     ]
    },
    {
     "data": {
      "text/html": [
       "Tracking run with wandb version 0.19.8"
      ],
      "text/plain": [
       "<IPython.core.display.HTML object>"
      ]
     },
     "metadata": {},
     "output_type": "display_data"
    },
    {
     "data": {
      "text/html": [
       "Run data is saved locally in <code>/rds/user/at2128/hpc-work/M2-Coursework/notebooks/wandb/run-20250321_160026-v4atrcfs</code>"
      ],
      "text/plain": [
       "<IPython.core.display.HTML object>"
      ]
     },
     "metadata": {},
     "output_type": "display_data"
    },
    {
     "data": {
      "text/html": [
       "Syncing run <strong><a href='https://wandb.ai/at2128-university-of-cambridge/M2%20Coursework/runs/v4atrcfs' target=\"_blank\">confused-brook-10</a></strong> to <a href='https://wandb.ai/at2128-university-of-cambridge/M2%20Coursework' target=\"_blank\">Weights & Biases</a> (<a href='https://wandb.me/developer-guide' target=\"_blank\">docs</a>)<br>"
      ],
      "text/plain": [
       "<IPython.core.display.HTML object>"
      ]
     },
     "metadata": {},
     "output_type": "display_data"
    },
    {
     "data": {
      "text/html": [
       " View project at <a href='https://wandb.ai/at2128-university-of-cambridge/M2%20Coursework' target=\"_blank\">https://wandb.ai/at2128-university-of-cambridge/M2%20Coursework</a>"
      ],
      "text/plain": [
       "<IPython.core.display.HTML object>"
      ]
     },
     "metadata": {},
     "output_type": "display_data"
    },
    {
     "data": {
      "text/html": [
       " View run at <a href='https://wandb.ai/at2128-university-of-cambridge/M2%20Coursework/runs/v4atrcfs' target=\"_blank\">https://wandb.ai/at2128-university-of-cambridge/M2%20Coursework/runs/v4atrcfs</a>"
      ],
      "text/plain": [
       "<IPython.core.display.HTML object>"
      ]
     },
     "metadata": {},
     "output_type": "display_data"
    }
   ],
   "source": [
    "LR = 1e-5\n",
    "config = {\"Learning Rate\": LR,\n",
    "          \"Batch Size\": BATCH_SIZE, \n",
    "          \"Decimals\": DECIMALS,\n",
    "          \"Lora Rank\": LORA_RANK}\n",
    "wandb.init(project=\"M2 Coursework\", config=config)\n",
    "wandb.watch(model, log=\"all\", log_freq=10)"
   ]
  },
  {
   "cell_type": "code",
   "execution_count": null,
   "id": "7ac9be7c-8f6a-4caf-a039-056bfddc6701",
   "metadata": {},
   "outputs": [
    {
     "name": "stderr",
     "output_type": "stream",
     "text": [
      "Detected kernel version 4.18.0, which is below the recommended minimum of 5.5.0; this can cause the process to hang. It is recommended to upgrade the kernel to the minimum version or higher.\n",
      "Steps 0: 100%|██████████| 875/875 [08:07<00:00,  1.80it/s, loss=0.749]\n",
      "Steps 875: 100%|██████████| 875/875 [07:53<00:00,  1.85it/s, loss=0.772]  \n",
      "Steps 1750: 100%|██████████| 875/875 [08:17<00:00,  1.76it/s, loss=0.755]  \n",
      "Steps 2625:  39%|███▉      | 343/875 [02:54<05:38,  1.57it/s, loss=0.583]  "
     ]
    }
   ],
   "source": [
    "train(model, train_loader, val_loader, learning_rate=LR, eval_interval=200, wandb=wandb)"
   ]
  }
 ],
 "metadata": {
  "kernelspec": {
   "display_name": "M2-Coursework",
   "language": "python",
   "name": "m2_env"
  },
  "language_info": {
   "codemirror_mode": {
    "name": "ipython",
    "version": 3
   },
   "file_extension": ".py",
   "mimetype": "text/x-python",
   "name": "python",
   "nbconvert_exporter": "python",
   "pygments_lexer": "ipython3",
   "version": "3.11.11"
  }
 },
 "nbformat": 4,
 "nbformat_minor": 5
}
